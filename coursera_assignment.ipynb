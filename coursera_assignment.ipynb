{
 "cells": [
  {
   "cell_type": "code",
   "execution_count": 12,
   "metadata": {},
   "outputs": [],
   "source": [
    "import requests\n",
    "from bs4 import BeautifulSoup\n",
    "\n",
    "r = requests.get(\"https://en.wikipedia.org/wiki/List_of_postal_codes_of_Canada:_M\")\n",
    "\n",
    "soup = BeautifulSoup(r.text, \"lxml\")\n",
    "#soup.find_all(\"table\", attrs={\"class\": \"wikitable\"})\n",
    "\n",
    "table = soup.find(\"table\", attrs={\"class\": \"wikitable\"})\n"
   ]
  },
  {
   "cell_type": "code",
   "execution_count": 33,
   "metadata": {},
   "outputs": [],
   "source": [
    "import pandas as pd\n",
    "import json"
   ]
  },
  {
   "cell_type": "code",
   "execution_count": 95,
   "metadata": {},
   "outputs": [
    {
     "data": {
      "text/plain": [
       "(102, 3)"
      ]
     },
     "execution_count": 95,
     "metadata": {},
     "output_type": "execute_result"
    }
   ],
   "source": [
    "rows = soup.find(\"table\", attrs={\"class\": \"wikitable\"}).find(\"tbody\").find_all(\"tr\")\n",
    "\n",
    "postcodes = []\n",
    "boroughs = []\n",
    "neighbourhoods = []\n",
    "\n",
    "\n",
    "for row in rows:\n",
    "    cells = row.find_all(\"td\")\n",
    "    if len(cells) > 0:\n",
    "        postcode = cells[0].get_text()\n",
    "        borough = cells[1].get_text()\n",
    "        neighbourhood = cells[2].get_text().strip(\"\\n\")\n",
    "        if borough != \"Not assigned\" and neighbourhood != \"Not assigned\":\n",
    "            \n",
    "            if postcode in postcodes:\n",
    "                index = postcodes.index(postcode)\n",
    "                #print(index)\n",
    "                #print( postcodes[index] )\n",
    "                neighbourhoods[index] += \", \"+neighbourhood\n",
    "            else:\n",
    "                neighbourhoods.append(neighbourhood)\n",
    "                postcodes.append(postcode)\n",
    "                boroughs.append(borough)\n",
    "#             if postcode != \"M7A\":\n",
    "#                 toronto.append(temp)\n",
    "\n",
    "\n",
    "\n",
    "df1 = pd.DataFrame( { \n",
    "    \"PostalCode\": postcodes  , \n",
    "    \"Borough\" : boroughs,\n",
    "    \"Neighbourhood\":neighbourhoods\n",
    "} )\n",
    "df1.shape"
   ]
  },
  {
   "cell_type": "code",
   "execution_count": null,
   "metadata": {},
   "outputs": [],
   "source": []
  },
  {
   "cell_type": "code",
   "execution_count": null,
   "metadata": {},
   "outputs": [],
   "source": []
  }
 ],
 "metadata": {
  "kernelspec": {
   "display_name": "Python 3",
   "language": "python",
   "name": "python3"
  },
  "language_info": {
   "codemirror_mode": {
    "name": "ipython",
    "version": 3
   },
   "file_extension": ".py",
   "mimetype": "text/x-python",
   "name": "python",
   "nbconvert_exporter": "python",
   "pygments_lexer": "ipython3",
   "version": "3.6.6"
  }
 },
 "nbformat": 4,
 "nbformat_minor": 2
}
